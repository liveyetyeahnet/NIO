{
  "nbformat": 4,
  "nbformat_minor": 0,
  "metadata": {
    "colab": {
      "name": "opera.ipynb",
      "provenance": [],
      "collapsed_sections": [],
      "authorship_tag": "ABX9TyNl2EfC/CLdDr6EncwezK2k",
      "include_colab_link": true
    },
    "kernelspec": {
      "name": "python3",
      "display_name": "Python 3"
    },
    "accelerator": "GPU"
  },
  "cells": [
    {
      "cell_type": "markdown",
      "metadata": {
        "id": "view-in-github",
        "colab_type": "text"
      },
      "source": [
        "<a href=\"https://colab.research.google.com/github/liveyetyeahnet/NIO/blob/main/opera.ipynb\" target=\"_parent\"><img src=\"https://colab.research.google.com/assets/colab-badge.svg\" alt=\"Open In Colab\"/></a>"
      ]
    },
    {
      "cell_type": "code",
      "metadata": {
        "id": "t1lPGsi0iEGR"
      },
      "source": [
        "%tensorflow_version 2.x"
      ],
      "execution_count": 2,
      "outputs": []
    },
    {
      "cell_type": "code",
      "metadata": {
        "id": "XXxv6sRukYih"
      },
      "source": [
        "from keras.preprocessing import sequence\r\n",
        "import keras\r\n",
        "import tensorflow as tf\r\n",
        "import os\r\n",
        "import numpy as np"
      ],
      "execution_count": 3,
      "outputs": []
    },
    {
      "cell_type": "code",
      "metadata": {
        "colab": {
          "base_uri": "https://localhost:8080/"
        },
        "id": "2Bmh6RgQke-j",
        "outputId": "f8210c0b-b5eb-4be7-dec7-97b3ba89aa2b"
      },
      "source": [
        "path_to_file = tf.keras.utils.get_file(\r\n",
        "    'shakespeare.txt', 'https://storage.googleapis.com/download.tensorflow.org/data/shakespeare.txt')\r\n",
        "\r\n",
        "# Read, then decode for py2 compat.\r\n",
        "text = open(path_to_file, 'rb').read().decode(encoding='utf-8')\r\n",
        "# length of text is the number of characters in it\r\n",
        "print('Length of text: {} characters'.format(len(text)))\r\n",
        "\r\n",
        "\r\n",
        "vocab = sorted(set(text))\r\n",
        "# Creating a mapping from unique characters to indices\r\n",
        "char2idx = {u: i for i, u in enumerate(vocab)}\r\n",
        "idx2char = np.array(vocab)\r\n",
        "\r\n",
        "\r\n",
        "def text_to_int(text):\r\n",
        "    return np.array([char2idx[c] for c in text])\r\n",
        "\r\n",
        "\r\n",
        "text_as_int = text_to_int(text)\r\n",
        "\r\n",
        "\r\n",
        "def int_to_text(ints):\r\n",
        "    try:\r\n",
        "        ints = ints.numpy()\r\n",
        "    except:\r\n",
        "        pass\r\n",
        "    return ''.join(idx2char[ints])\r\n",
        "\r\n",
        "\r\n",
        "print(int_to_text(text_as_int[:13]))"
      ],
      "execution_count": 4,
      "outputs": [
        {
          "output_type": "stream",
          "text": [
            "Downloading data from https://storage.googleapis.com/download.tensorflow.org/data/shakespeare.txt\n",
            "1122304/1115394 [==============================] - 0s 0us/step\n",
            "Length of text: 1115394 characters\n",
            "First Citizen\n"
          ],
          "name": "stdout"
        }
      ]
    },
    {
      "cell_type": "code",
      "metadata": {
        "colab": {
          "base_uri": "https://localhost:8080/"
        },
        "id": "NOGzQgRbkwYL",
        "outputId": "221d3b51-adda-4261-c4b9-2492b98a6d42"
      },
      "source": [
        "seq_length = 100  # length of sequence for a training example\r\n",
        "examples_per_epoch = len(text)//(seq_length+1)\r\n",
        "# Create training examples / targets\r\n",
        "char_dataset = tf.data.Dataset.from_tensor_slices(text_as_int)\r\n",
        "\r\n",
        "sequences = char_dataset.batch(seq_length+1, drop_remainder=True)\r\n",
        "\r\n",
        "\r\n",
        "def split_input_target(chunk):  # for the example: hello\r\n",
        "    input_text = chunk[:-1]  # hell\r\n",
        "    target_text = chunk[1:]  # ello\r\n",
        "    return input_text, target_text  # hell, ello\r\n",
        "\r\n",
        "\r\n",
        "# we use map to apply the above function to every entry\r\n",
        "dataset = sequences.map(split_input_target)\r\n",
        "\r\n",
        "for x, y in dataset.take(2):\r\n",
        "    print(\"\\n\\nEXAMPLE\\n\")\r\n",
        "    print(\"INPUT\")\r\n",
        "    print(int_to_text(x))\r\n",
        "    print(\"\\nOUTPUT\")\r\n",
        "    print(int_to_text(y))"
      ],
      "execution_count": 5,
      "outputs": [
        {
          "output_type": "stream",
          "text": [
            "\n",
            "\n",
            "EXAMPLE\n",
            "\n",
            "INPUT\n",
            "First Citizen:\n",
            "Before we proceed any further, hear me speak.\n",
            "\n",
            "All:\n",
            "Speak, speak.\n",
            "\n",
            "First Citizen:\n",
            "You\n",
            "\n",
            "OUTPUT\n",
            "irst Citizen:\n",
            "Before we proceed any further, hear me speak.\n",
            "\n",
            "All:\n",
            "Speak, speak.\n",
            "\n",
            "First Citizen:\n",
            "You \n",
            "\n",
            "\n",
            "EXAMPLE\n",
            "\n",
            "INPUT\n",
            "are all resolved rather to die than to famish?\n",
            "\n",
            "All:\n",
            "Resolved. resolved.\n",
            "\n",
            "First Citizen:\n",
            "First, you \n",
            "\n",
            "OUTPUT\n",
            "re all resolved rather to die than to famish?\n",
            "\n",
            "All:\n",
            "Resolved. resolved.\n",
            "\n",
            "First Citizen:\n",
            "First, you k\n"
          ],
          "name": "stdout"
        }
      ]
    },
    {
      "cell_type": "code",
      "metadata": {
        "colab": {
          "base_uri": "https://localhost:8080/"
        },
        "id": "jUZcW-Cmk37K",
        "outputId": "e164d6c1-19d7-48ac-a550-567a0d4be57f"
      },
      "source": [
        "BATCH_SIZE = 64\r\n",
        "VOCAB_SIZE = len(vocab)  # vocab is number of unique characters\r\n",
        "EMBEDDING_DIM = 256\r\n",
        "RNN_UNITS = 1024\r\n",
        "\r\n",
        "# Buffer size to shuffle the dataset\r\n",
        "# (TF data is designed to work with possibly infinite sequences,\r\n",
        "# so it doesn't attempt to shuffle the entire sequence in memory. Instead,\r\n",
        "# it maintains a buffer in which it shuffles elements).\r\n",
        "BUFFER_SIZE = 10000\r\n",
        "\r\n",
        "data = dataset.shuffle(BUFFER_SIZE).batch(BATCH_SIZE, drop_remainder=True)\r\n",
        "\r\n",
        "\r\n",
        "def build_model(vocab_size, embedding_dim, rnn_units, batch_size):\r\n",
        "    model = tf.keras.Sequential([\r\n",
        "        tf.keras.layers.Embedding(vocab_size, embedding_dim,\r\n",
        "                                  batch_input_shape=[batch_size, None]),\r\n",
        "        tf.keras.layers.LSTM(rnn_units,\r\n",
        "                             return_sequences=True,\r\n",
        "                             stateful=True,\r\n",
        "                             recurrent_initializer='glorot_uniform'),\r\n",
        "        tf.keras.layers.Dense(vocab_size)\r\n",
        "    ])\r\n",
        "    return model\r\n",
        "\r\n",
        "\r\n",
        "model = build_model(VOCAB_SIZE, EMBEDDING_DIM, RNN_UNITS, BATCH_SIZE)\r\n",
        "model.summary()"
      ],
      "execution_count": 6,
      "outputs": [
        {
          "output_type": "stream",
          "text": [
            "Model: \"sequential\"\n",
            "_________________________________________________________________\n",
            "Layer (type)                 Output Shape              Param #   \n",
            "=================================================================\n",
            "embedding (Embedding)        (64, None, 256)           16640     \n",
            "_________________________________________________________________\n",
            "lstm (LSTM)                  (64, None, 1024)          5246976   \n",
            "_________________________________________________________________\n",
            "dense (Dense)                (64, None, 65)            66625     \n",
            "=================================================================\n",
            "Total params: 5,330,241\n",
            "Trainable params: 5,330,241\n",
            "Non-trainable params: 0\n",
            "_________________________________________________________________\n"
          ],
          "name": "stdout"
        }
      ]
    },
    {
      "cell_type": "code",
      "metadata": {
        "colab": {
          "base_uri": "https://localhost:8080/"
        },
        "id": "Y7A47J9plM8F",
        "outputId": "d0b7b225-ee50-4a33-ca41-094463dc5e5b"
      },
      "source": [
        "def loss(labels, logits):\r\n",
        "    return tf.keras.losses.sparse_categorical_crossentropy(labels, logits, from_logits=True)\r\n",
        "\r\n",
        "\r\n",
        "model.compile(optimizer='adam', loss=loss)\r\n",
        "\r\n",
        "# Directory where the checkpoints will be saved\r\n",
        "checkpoint_dir = './training_checkpoints'\r\n",
        "# Name of the checkpoint files\r\n",
        "checkpoint_prefix = os.path.join(checkpoint_dir, \"ckpt_{epoch}\")\r\n",
        "\r\n",
        "checkpoint_callback = tf.keras.callbacks.ModelCheckpoint(\r\n",
        "    filepath=checkpoint_prefix,\r\n",
        "    save_weights_only=True)\r\n",
        "\r\n",
        "history = model.fit(data, epochs=50, callbacks=[checkpoint_callback])\r\n",
        "\r\n",
        "model = build_model(VOCAB_SIZE, EMBEDDING_DIM, RNN_UNITS, batch_size=1)\r\n",
        "\r\n",
        "model.load_weights(tf.train.latest_checkpoint(checkpoint_dir))\r\n",
        "model.build(tf.TensorShape([1, None]))\r\n",
        "\r\n",
        "# checkpoint_num = 10\r\n",
        "# model.load_weights(tf.train.load_checkpoint(\"./training_checkpoints/ckpt_\" + str(checkpoint_num)))\r\n",
        "# model.build(tf.TensorShape([1, None]))"
      ],
      "execution_count": 7,
      "outputs": [
        {
          "output_type": "stream",
          "text": [
            "Epoch 1/50\n",
            "172/172 [==============================] - 13s 73ms/step - loss: 2.5424\n",
            "Epoch 2/50\n",
            "172/172 [==============================] - 13s 75ms/step - loss: 1.8536\n",
            "Epoch 3/50\n",
            "172/172 [==============================] - 13s 77ms/step - loss: 1.6131\n",
            "Epoch 4/50\n",
            "172/172 [==============================] - 14s 79ms/step - loss: 1.4865\n",
            "Epoch 5/50\n",
            "172/172 [==============================] - 13s 78ms/step - loss: 1.4095\n",
            "Epoch 6/50\n",
            "172/172 [==============================] - 13s 77ms/step - loss: 1.3528\n",
            "Epoch 7/50\n",
            "172/172 [==============================] - 13s 76ms/step - loss: 1.3085\n",
            "Epoch 8/50\n",
            "172/172 [==============================] - 13s 77ms/step - loss: 1.2688\n",
            "Epoch 9/50\n",
            "172/172 [==============================] - 13s 78ms/step - loss: 1.2320\n",
            "Epoch 10/50\n",
            "172/172 [==============================] - 13s 78ms/step - loss: 1.1966\n",
            "Epoch 11/50\n",
            "172/172 [==============================] - 13s 77ms/step - loss: 1.1594\n",
            "Epoch 12/50\n",
            "172/172 [==============================] - 13s 77ms/step - loss: 1.1232\n",
            "Epoch 13/50\n",
            "172/172 [==============================] - 13s 77ms/step - loss: 1.0844\n",
            "Epoch 14/50\n",
            "172/172 [==============================] - 13s 77ms/step - loss: 1.0441\n",
            "Epoch 15/50\n",
            "172/172 [==============================] - 13s 77ms/step - loss: 1.0035\n",
            "Epoch 16/50\n",
            "172/172 [==============================] - 13s 77ms/step - loss: 0.9629\n",
            "Epoch 17/50\n",
            "172/172 [==============================] - 13s 77ms/step - loss: 0.9216\n",
            "Epoch 18/50\n",
            "172/172 [==============================] - 13s 77ms/step - loss: 0.8806\n",
            "Epoch 19/50\n",
            "172/172 [==============================] - 13s 77ms/step - loss: 0.8402\n",
            "Epoch 20/50\n",
            "172/172 [==============================] - 13s 77ms/step - loss: 0.8029\n",
            "Epoch 21/50\n",
            "172/172 [==============================] - 13s 77ms/step - loss: 0.7671\n",
            "Epoch 22/50\n",
            "172/172 [==============================] - 13s 77ms/step - loss: 0.7345\n",
            "Epoch 23/50\n",
            "172/172 [==============================] - 13s 77ms/step - loss: 0.7044\n",
            "Epoch 24/50\n",
            "172/172 [==============================] - 13s 77ms/step - loss: 0.6769\n",
            "Epoch 25/50\n",
            "172/172 [==============================] - 13s 77ms/step - loss: 0.6501\n",
            "Epoch 26/50\n",
            "172/172 [==============================] - 13s 77ms/step - loss: 0.6276\n",
            "Epoch 27/50\n",
            "172/172 [==============================] - 13s 77ms/step - loss: 0.6073\n",
            "Epoch 28/50\n",
            "172/172 [==============================] - 13s 77ms/step - loss: 0.5895\n",
            "Epoch 29/50\n",
            "172/172 [==============================] - 13s 77ms/step - loss: 0.5712\n",
            "Epoch 30/50\n",
            "172/172 [==============================] - 13s 77ms/step - loss: 0.5545\n",
            "Epoch 31/50\n",
            "172/172 [==============================] - 13s 77ms/step - loss: 0.5433\n",
            "Epoch 32/50\n",
            "172/172 [==============================] - 13s 77ms/step - loss: 0.5300\n",
            "Epoch 33/50\n",
            "172/172 [==============================] - 13s 77ms/step - loss: 0.5193\n",
            "Epoch 34/50\n",
            "172/172 [==============================] - 13s 77ms/step - loss: 0.5079\n",
            "Epoch 35/50\n",
            "172/172 [==============================] - 13s 77ms/step - loss: 0.4992\n",
            "Epoch 36/50\n",
            "172/172 [==============================] - 13s 77ms/step - loss: 0.4915\n",
            "Epoch 37/50\n",
            "172/172 [==============================] - 13s 77ms/step - loss: 0.4834\n",
            "Epoch 38/50\n",
            "172/172 [==============================] - 13s 77ms/step - loss: 0.4777\n",
            "Epoch 39/50\n",
            "172/172 [==============================] - 13s 77ms/step - loss: 0.4691\n",
            "Epoch 40/50\n",
            "172/172 [==============================] - 13s 77ms/step - loss: 0.4648\n",
            "Epoch 41/50\n",
            "172/172 [==============================] - 13s 77ms/step - loss: 0.4579\n",
            "Epoch 42/50\n",
            "172/172 [==============================] - 13s 77ms/step - loss: 0.4557\n",
            "Epoch 43/50\n",
            "172/172 [==============================] - 13s 77ms/step - loss: 0.4505\n",
            "Epoch 44/50\n",
            "172/172 [==============================] - 13s 77ms/step - loss: 0.4464\n",
            "Epoch 45/50\n",
            "172/172 [==============================] - 13s 77ms/step - loss: 0.4410\n",
            "Epoch 46/50\n",
            "172/172 [==============================] - 13s 77ms/step - loss: 0.4380\n",
            "Epoch 47/50\n",
            "172/172 [==============================] - 13s 77ms/step - loss: 0.4340\n",
            "Epoch 48/50\n",
            "172/172 [==============================] - 13s 77ms/step - loss: 0.4321\n",
            "Epoch 49/50\n",
            "172/172 [==============================] - 13s 77ms/step - loss: 0.4301\n",
            "Epoch 50/50\n",
            "172/172 [==============================] - 13s 78ms/step - loss: 0.4276\n"
          ],
          "name": "stdout"
        }
      ]
    },
    {
      "cell_type": "code",
      "metadata": {
        "id": "pFTUmEtwiKqL"
      },
      "source": [
        "\r\n",
        "def generate_text(model, start_string):\r\n",
        "    # Evaluation step (generating text using the learned model)\r\n",
        "\r\n",
        "    # Number of characters to generate\r\n",
        "    num_generate = 800\r\n",
        "\r\n",
        "    # Converting our start string to numbers (vectorizing)\r\n",
        "    input_eval = [char2idx[s] for s in start_string]\r\n",
        "    input_eval = tf.expand_dims(input_eval, 0)\r\n",
        "\r\n",
        "    # Empty string to store our results\r\n",
        "    text_generated = []\r\n",
        "\r\n",
        "    # Low temperatures results in more predictable text.\r\n",
        "    # Higher temperatures results in more surprising text.\r\n",
        "    # Experiment to find the best setting.\r\n",
        "    temperature = 1.0\r\n",
        "\r\n",
        "    # Here batch size == 1\r\n",
        "    model.reset_states()\r\n",
        "    for i in range(num_generate):\r\n",
        "        predictions = model(input_eval)\r\n",
        "        # remove the batch dimension\r\n",
        "\r\n",
        "        predictions = tf.squeeze(predictions, 0)\r\n",
        "\r\n",
        "        # using a categorical distribution to predict the character returned by the model\r\n",
        "        predictions = predictions / temperature\r\n",
        "        predicted_id = tf.random.categorical(\r\n",
        "            predictions, num_samples=1)[-1, 0].numpy()\r\n",
        "\r\n",
        "        # We pass the predicted character as the next input to the model\r\n",
        "        # along with the previous hidden state\r\n",
        "        input_eval = tf.expand_dims([predicted_id], 0)\r\n",
        "\r\n",
        "        text_generated.append(idx2char[predicted_id])\r\n",
        "\r\n",
        "    return (start_string + ''.join(text_generated))\r\n"
      ],
      "execution_count": 8,
      "outputs": []
    },
    {
      "cell_type": "code",
      "metadata": {
        "colab": {
          "base_uri": "https://localhost:8080/"
        },
        "id": "U5IiiVNdmAd2",
        "outputId": "0dffcbbf-ce68-40b2-c67f-b0b945c5ac96"
      },
      "source": [
        "inp = input(\"Type a starting string: \")\r\n",
        "print(generate_text(model, inp))"
      ],
      "execution_count": 12,
      "outputs": [
        {
          "output_type": "stream",
          "text": [
            "Type a starting string: win the lottery\n",
            "win the lottery proces thee\n",
            "From the noise of his sword;\n",
            "And to tell me, what are they were barbarians,--as at valiant is!\n",
            "I will not setuce mine eyes cannot RDIVIO:\n",
            "Nay, rather, rail; why, hadst thou not be?\n",
            "Did ut the day of doors will serve your loves:\n",
            "Car I not athalp there, it is a past.\n",
            "\n",
            "KING HENRY VI:\n",
            "Not for myself, and possess me well; and am he mean to policy,\n",
            "For, I am sent for to a king,\n",
            "And all conceinted as his child by him,\n",
            "I here resolve my thumb,--\n",
            "\n",
            "GLOUCESTER:\n",
            "I did; my brother durber men call this reign.\n",
            "Go rngert; and if you think the canker\n",
            "Of Jushore, whom it can affect moved\n",
            "Fitzlance with speeding comfort; which is very\n",
            "Penevill be disposition, but your\n",
            "worshipst ngelo cannot do to see.\n",
            "I have been seithing.\n",
            "\n",
            "MENENIUS:\n",
            "Has he d part better\n",
            "ve heard of these power: this dream of me\n"
          ],
          "name": "stdout"
        }
      ]
    }
  ]
}